{
 "cells": [
  {
   "cell_type": "code",
   "execution_count": 1,
   "id": "0e57593b-c3fd-499e-9c08-5d9a428f3c1c",
   "metadata": {},
   "outputs": [
    {
     "name": "stdout",
     "output_type": "stream",
     "text": [
      "Hello Leuphana\n"
     ]
    }
   ],
   "source": [
    "print (\"Hello Leuphana\")"
   ]
  },
  {
   "cell_type": "code",
   "execution_count": null,
   "id": "3ff03834-087a-4288-92e9-44e341e2ba8a",
   "metadata": {},
   "outputs": [],
   "source": []
  }
 ],
 "metadata": {
  "kernelspec": {
   "display_name": "myfirstcode",
   "language": "python",
   "name": "my_first_code"
  },
  "language_info": {
   "codemirror_mode": {
    "name": "ipython",
    "version": 3
   },
   "file_extension": ".py",
   "mimetype": "text/x-python",
   "name": "python",
   "nbconvert_exporter": "python",
   "pygments_lexer": "ipython3",
   "version": "3.11.10"
  }
 },
 "nbformat": 4,
 "nbformat_minor": 5
}
